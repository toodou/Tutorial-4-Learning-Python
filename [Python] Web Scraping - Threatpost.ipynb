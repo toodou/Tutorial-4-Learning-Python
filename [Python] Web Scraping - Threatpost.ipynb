{
 "cells": [
  {
   "cell_type": "markdown",
   "metadata": {},
   "source": [
    "## [Python] Web Scraping - ThreatPost.com\n",
    "this code is used to scrap the meta-data of articles and their contents via threatpost.com as an example for testing. <br />\n",
    "<b>Date:</b> 2017/11/20<br />\n",
    "<b>Loc:</b> III, Taipei, TAIWAN(R.O.C.)<br />\n",
    "<b>Coder:</b> <i>Chan, TooDou, Chun-Hsiang</i>"
   ]
  },
  {
   "cell_type": "markdown",
   "metadata": {},
   "source": [
    "## Import packages"
   ]
  },
  {
   "cell_type": "code",
   "execution_count": 1,
   "metadata": {
    "collapsed": true
   },
   "outputs": [],
   "source": [
    "# https://threatpost.com/category/cloud-security/\n",
    "# import packages\n",
    "import numpy as np\n",
    "import pandas as pd\n",
    "import os\n",
    "import datetime\n",
    "import sys\n",
    "from bs4 import BeautifulSoup\n",
    "import requests\n",
    "from urllib.request import Request, urlopen"
   ]
  },
  {
   "cell_type": "markdown",
   "metadata": {},
   "source": [
    "## Obtain all article info from the index.html"
   ]
  },
  {
   "cell_type": "code",
   "execution_count": 2,
   "metadata": {},
   "outputs": [],
   "source": [
    "# request to open the website via urlopen\n",
    "req = Request('https://threatpost.com/category/cloud-security/', headers={'User-Agent': 'Mozilla/5.0'})\n",
    "webpage = urlopen(req).read()\n",
    "# html parser via beautifulsoup\n",
    "soup = BeautifulSoup(webpage, \"html.parser\")"
   ]
  },
  {
   "cell_type": "code",
   "execution_count": 28,
   "metadata": {},
   "outputs": [
    {
     "data": {
      "text/plain": [
       "20"
      ]
     },
     "execution_count": 28,
     "metadata": {},
     "output_type": "execute_result"
    }
   ],
   "source": [
    "pageNum = soup.select('.page-numbers')\n",
    "num_page = len(pageNum)\n",
    "int(pageNum[num_page-2].text)"
   ]
  },
  {
   "cell_type": "code",
   "execution_count": 27,
   "metadata": {},
   "outputs": [],
   "source": [
    "# choose the news part\n",
    "full_latest_post = soup.select('#latest-posts')[0]\n",
    "# count the number of article\n",
    "num_article = len(full_latest_post.select('article'))\n",
    "# declare the list for storing the article meta-data\n",
    "info_categories = []\n",
    "info_title = []\n",
    "info_date = []\n",
    "info_author = []\n",
    "info_url = []\n",
    "# parsing the article meta-data to list\n",
    "for i in range(num_article):\n",
    "    # get article\n",
    "    article_contents = full_latest_post.select('article')[i]\n",
    "    # parsing and storing\n",
    "    info_categories.append(article_contents.select('.categories')[0].text[14:-1])\n",
    "    info_title.append(article_contents.select('.entry-title')[0].text[1:-1])\n",
    "    info_date.append(article_contents.select('.post-info')[0].text[1:-1])\n",
    "    info_author.append(article_contents.select('.post-info')[1].text[4:-1])\n",
    "    info_url.append(article_contents.a['href'])\n",
    "# test [print all out]\n",
    "# print(info_categories)\n",
    "# print(info_title)\n",
    "# print(info_date)\n",
    "# print(info_author)\n",
    "# print(info_url)"
   ]
  },
  {
   "cell_type": "code",
   "execution_count": 4,
   "metadata": {},
   "outputs": [
    {
     "data": {
      "text/html": [
       "<div>\n",
       "<table border=\"1\" class=\"dataframe\">\n",
       "  <thead>\n",
       "    <tr style=\"text-align: right;\">\n",
       "      <th></th>\n",
       "      <th>categories</th>\n",
       "      <th>title</th>\n",
       "      <th>date</th>\n",
       "      <th>author</th>\n",
       "      <th>url</th>\n",
       "    </tr>\n",
       "  </thead>\n",
       "  <tbody>\n",
       "    <tr>\n",
       "      <th>0</th>\n",
       "      <td>Cloud Security,  Hacks,  Privacy</td>\n",
       "      <td>Amazon Promises Fix to Stop Key Service Hack</td>\n",
       "      <td>November 17, 2017 , 1:59 pm</td>\n",
       "      <td>Tom Spring</td>\n",
       "      <td>https://threatpost.com/amazon-promises-fix-for...</td>\n",
       "    </tr>\n",
       "    <tr>\n",
       "      <th>1</th>\n",
       "      <td>Cloud Security,  Privacy,  Web Security</td>\n",
       "      <td>Data Pours from Cloud—And ‘The Enemy is Us’</td>\n",
       "      <td>November 6, 2017 , 8:00 am</td>\n",
       "      <td>Tom Spring</td>\n",
       "      <td>https://threatpost.com/data-pours-from-cloud-a...</td>\n",
       "    </tr>\n",
       "    <tr>\n",
       "      <th>2</th>\n",
       "      <td>Cloud Security,  Hacks,  Privacy,  Vulnerabili...</td>\n",
       "      <td>WordPress Delivers Second Patch For SQL Inject...</td>\n",
       "      <td>November 1, 2017 , 2:35 pm</td>\n",
       "      <td>Tom Spring</td>\n",
       "      <td>https://threatpost.com/wordpress-delivers-seco...</td>\n",
       "    </tr>\n",
       "    <tr>\n",
       "      <th>3</th>\n",
       "      <td>Cloud Security,  Featured,  Privacy,  Vulnerab...</td>\n",
       "      <td>Slack Plugs ‘Severe’ SAML User Authentication ...</td>\n",
       "      <td>October 27, 2017 , 8:00 am</td>\n",
       "      <td>Tom Spring</td>\n",
       "      <td>https://threatpost.com/slack-plugs-severe-saml...</td>\n",
       "    </tr>\n",
       "    <tr>\n",
       "      <th>4</th>\n",
       "      <td>Cloud Security,  Cryptography,  Vulnerabilitie...</td>\n",
       "      <td>Cisco Warns 69 Products Impacted by KRACK</td>\n",
       "      <td>October 20, 2017 , 7:00 am</td>\n",
       "      <td>Tom Spring</td>\n",
       "      <td>https://threatpost.com/cisco-warns-69-products...</td>\n",
       "    </tr>\n",
       "  </tbody>\n",
       "</table>\n",
       "</div>"
      ],
      "text/plain": [
       "                                          categories  \\\n",
       "0                   Cloud Security,  Hacks,  Privacy   \n",
       "1            Cloud Security,  Privacy,  Web Security   \n",
       "2  Cloud Security,  Hacks,  Privacy,  Vulnerabili...   \n",
       "3  Cloud Security,  Featured,  Privacy,  Vulnerab...   \n",
       "4  Cloud Security,  Cryptography,  Vulnerabilitie...   \n",
       "\n",
       "                                               title  \\\n",
       "0       Amazon Promises Fix to Stop Key Service Hack   \n",
       "1        Data Pours from Cloud—And ‘The Enemy is Us’   \n",
       "2  WordPress Delivers Second Patch For SQL Inject...   \n",
       "3  Slack Plugs ‘Severe’ SAML User Authentication ...   \n",
       "4          Cisco Warns 69 Products Impacted by KRACK   \n",
       "\n",
       "                          date      author  \\\n",
       "0  November 17, 2017 , 1:59 pm  Tom Spring   \n",
       "1   November 6, 2017 , 8:00 am  Tom Spring   \n",
       "2   November 1, 2017 , 2:35 pm  Tom Spring   \n",
       "3   October 27, 2017 , 8:00 am  Tom Spring   \n",
       "4   October 20, 2017 , 7:00 am  Tom Spring   \n",
       "\n",
       "                                                 url  \n",
       "0  https://threatpost.com/amazon-promises-fix-for...  \n",
       "1  https://threatpost.com/data-pours-from-cloud-a...  \n",
       "2  https://threatpost.com/wordpress-delivers-seco...  \n",
       "3  https://threatpost.com/slack-plugs-severe-saml...  \n",
       "4  https://threatpost.com/cisco-warns-69-products...  "
      ]
     },
     "execution_count": 4,
     "metadata": {},
     "output_type": "execute_result"
    }
   ],
   "source": [
    "# save to single dataframe\n",
    "thretPost_com = pd.DataFrame(np.column_stack([info_categories, info_title, info_date, info_author, info_url])\n",
    "                             , columns=['categories', 'title', 'date', 'author', 'url'])\n",
    "# print the head of dataframe\n",
    "thretPost_com.head()"
   ]
  },
  {
   "cell_type": "markdown",
   "metadata": {},
   "source": [
    "## Obtain all contents of article"
   ]
  },
  {
   "cell_type": "code",
   "execution_count": 5,
   "metadata": {},
   "outputs": [],
   "source": [
    "# request to open the website via urlopen\n",
    "req = Request(thretPost_com.url[0], headers={'User-Agent': 'Mozilla/5.0'})\n",
    "webpage = urlopen(req).read()\n",
    "# html parser via beautifulsoup\n",
    "soupIn = BeautifulSoup(webpage, \"html.parser\")\n",
    "# get contents of whole site\n",
    "all_content = soupIn.select('.entry-content')[0]\n",
    "# count the number of paragraph\n",
    "num_paragraph = len(all_content.select('p'))\n",
    "# cat all paragraph into single string\n",
    "s = ''\n",
    "for i in range(num_paragraph):\n",
    "    t = all_content.select('p')[i].text\n",
    "    s += ' ' + t"
   ]
  },
  {
   "cell_type": "code",
   "execution_count": 6,
   "metadata": {},
   "outputs": [],
   "source": [
    "def get_paragraphContents(url):\n",
    "    # request to open the website via urlopen\n",
    "    req = Request(url, headers={'User-Agent': 'Mozilla/5.0'})\n",
    "    webpage = urlopen(req).read()\n",
    "    # html parser via beautifulsoup\n",
    "    soupIn = BeautifulSoup(webpage, \"html.parser\")\n",
    "    # get contents of whole site\n",
    "    all_content = soupIn.select('.entry-content')[0]\n",
    "    # count the number of paragraph\n",
    "    num_paragraph = len(all_content.select('p'))\n",
    "    # cat all paragraph into single string\n",
    "    s = ''\n",
    "    for i in range(num_paragraph):\n",
    "        if i==0:\n",
    "            t = all_content.select('p')[i].text\n",
    "            s = t\n",
    "        else:\n",
    "            t = all_content.select('p')[i].text\n",
    "            s += ' ' + t\n",
    "    return s"
   ]
  },
  {
   "cell_type": "code",
   "execution_count": 7,
   "metadata": {},
   "outputs": [
    {
     "data": {
      "text/plain": [
       "'Researchers at Rhino Security Labs identified a flaw in Amazon’s Key delivery service and Cloud Cam security camera that allows a rogue courier to tamper with the camera and knock it offline, making it appear no one is entering home, when that’s not the case. Amazon Key service allows homeowners to remotely unlock and lock their front door for visitors. The service works in conjunction with Amazon’s Cloud Cam security camera. And if a user is a Prime member, they can permit Amazon couriers authenticate themselves in order to unlock and relock the door to leave a package inside a home on their own. Remote homeowners use the Amazon Key app to monitor their front door via a video feed and receive Amazon delivery alerts. Amazon Prime delivery people also use a version of the Amazon Key app to unlock and lock a customer door. Rhino Labs researchers developed a program that can forge a request from the Wi-Fi router the Cloud Cam device is connected with that tells the camera to stop working. The byproduct of that action is a frozen image displayed on the video feed of the Amazon Key app making it appear the user’s front door is securely shut. In a proof of concept of the flaw, demonstrated by Rhino Labs in a video, researchers created what they call a de-authentication attack. After a courier unlocks the front door using the Amazon Key app, the attacker sends a de-authorization command to the Cloud Cam, temporarily turning the camera off. The Rhino PoC attack doesn’t just block the Wi-Fi signal once, it does it repeatedly. By doing so, the image viewed on the Amazon Key app freezes until the Wi-Fi jamming ceases. Next, a rogue delivery person could unlock the door and surreptitiously enter the house without being seen on the Cloud Cam feed. According to a write-up published in Wired, Rhino Labs researchers point out the hack is not a vulnerability, but a shortcoming of Wi-Fi devices that allows anyone to fake a command from a Wi-Fi router and temporarily knock a device off the Wi-Fi network. On Thursday Amazon released a statement saying “We currently notify customers if the camera is offline for an extended period… Later this week, we will deploy an update to more quickly provide notifications if the camera goes offline during delivery.” Amazon added, “The service will not unlock the door if the Wi-Fi is disabled and the camera is not online.” Amazon maintains the Rhino Labs PoC hack poses little risk to customers because of the technical nature of the attack. It also emphasizes the root of the problem is tied to an issues with the Wi-Fi protocol, not its hardware. Additionally, Amazon points out its delivery drivers actions are recorded and if a house was broken into the driver would be quickly identified. But, Rhino Labs researchers said it’s possible for a malicious third-party to follow around an Amazon delivery person and send a de-authorization signal just as the door was shutting preventing the remote wireless Amazon Key lock from locking. Amazon responded and said that type of attack is even less likely to succeed, because it’s policy to double-check a door is locked after every delivery. Additionally, Amazon said, a driver would likely find it suspicious during a “extended locking” message that would eventually time-out with an error on its Amazon Key app. Rhino Labs said a fix that immediately notifies Amazon Key users their services is being tampered with is a good first step toward thwarting the hack. A better solution would be local offline storage of video from the Cloud Cam for post-intrusion analysis.'"
      ]
     },
     "execution_count": 7,
     "metadata": {},
     "output_type": "execute_result"
    }
   ],
   "source": [
    "get_paragraphContents(thretPost_com.url[0])"
   ]
  },
  {
   "cell_type": "code",
   "execution_count": null,
   "metadata": {
    "collapsed": true
   },
   "outputs": [],
   "source": []
  }
 ],
 "metadata": {
  "kernelspec": {
   "display_name": "Python 3",
   "language": "python",
   "name": "python3"
  },
  "language_info": {
   "codemirror_mode": {
    "name": "ipython",
    "version": 3
   },
   "file_extension": ".py",
   "mimetype": "text/x-python",
   "name": "python",
   "nbconvert_exporter": "python",
   "pygments_lexer": "ipython3",
   "version": "3.6.0"
  }
 },
 "nbformat": 4,
 "nbformat_minor": 2
}
