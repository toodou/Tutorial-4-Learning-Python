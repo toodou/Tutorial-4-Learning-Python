{
 "cells": [
  {
   "cell_type": "markdown",
   "metadata": {},
   "source": [
    "## Settings"
   ]
  },
  {
   "cell_type": "code",
   "execution_count": 1,
   "metadata": {
    "collapsed": true
   },
   "outputs": [],
   "source": [
    "# -*- coding: utf8 -*-\n",
    "# coding: utf8\n",
    "# import packages\n",
    "import pandas as pd\n",
    "import numpy as np\n",
    "import timeit\n",
    "import datetime\n",
    "import os\n",
    "import StringIO\n",
    "from docx import Document\n",
    "from docx.shared import Inches\n",
    "from docx.enum.table import WD_TABLE_ALIGNMENT\n",
    "from docx.enum.text import WD_ALIGN_PARAGRAPH\n",
    "import pymongo\n",
    "from pymongo import MongoClient\n",
    "import re\n",
    "import splunklib.client as client\n",
    "import splunklib.results as results\n",
    "from collections import OrderedDict\n",
    "os.chdir('function directory')\n",
    "from autoGenEventDoc_funclist_mongo import *\n",
    "\n",
    "# DECLARE PARAMETERS\n",
    "EVENT_ID = 'event_id' # change here\n",
    "db_name = 'your mongoDB collection name' # change here\n",
    "year = EVENT_ID[0:2]\n",
    "month = EVENT_ID[2:4]\n",
    "day = EVENT_ID[4:6]\n",
    "MongoDB_ip = 'YOUR MONGODB SERVER IP' # change here\n",
    "\n",
    "if db_name == 'iii':\n",
    "    HOST = \"YOUR SPLUNK SERVER IP\" # change here\n",
    "elif db_name == 'ites':\n",
    "    HOST = \"YOUR SPLUNK SERVER IP\" # change here\n",
    "PORT = \"YOUR SPLUNK SERVER PORT\" # change here\n",
    "USERNAME = 'YOUR SPLUNK SERVER USERNAME' # change here\n",
    "PASSWORD = 'YOUR SPLUNK SERVER PASSWORD' # change here"
   ]
  },
  {
   "cell_type": "markdown",
   "metadata": {},
   "source": [
    "## MongoDB Part"
   ]
  },
  {
   "cell_type": "code",
   "execution_count": 2,
   "metadata": {},
   "outputs": [
    {
     "name": "stdout",
     "output_type": "stream",
     "text": [
      "MongoDB Data has successfully exported to dataframe from MongoDB via get_dataByEventID!\n",
      "\n"
     ]
    },
    {
     "data": {
      "text/html": [
       "<div>\n",
       "<table border=\"1\" class=\"dataframe\">\n",
       "  <thead>\n",
       "    <tr style=\"text-align: right;\">\n",
       "      <th></th>\n",
       "      <th>_id</th>\n",
       "      <th>advice</th>\n",
       "      <th>date</th>\n",
       "      <th>dst_host_name</th>\n",
       "      <th>dst_ip</th>\n",
       "      <th>dst_port</th>\n",
       "      <th>end_time</th>\n",
       "      <th>event_description</th>\n",
       "      <th>event_id</th>\n",
       "      <th>event_name</th>\n",
       "      <th>org</th>\n",
       "      <th>src_host_name</th>\n",
       "      <th>src_ip</th>\n",
       "      <th>src_port</th>\n",
       "      <th>start_time</th>\n",
       "    </tr>\n",
       "  </thead>\n",
       "  <tbody>\n",
       "    <tr>\n",
       "      <th>0</th>\n",
       "      <td>5a52d8a97d6a9462030819aa</td>\n",
       "      <td>資安監控室長期趨勢追蹤發現創研所主機異常連線至可疑中繼站與DN，Malware DN建議先透...</td>\n",
       "      <td>2017-10-02</td>\n",
       "      <td>blog.qooza.hk, stun.iptel.org, drive.google-in...</td>\n",
       "      <td></td>\n",
       "      <td>53</td>\n",
       "      <td>2017-10-02T23:59:59.999</td>\n",
       "      <td>該事件為創研所屬網段電腦連線至ICST所列管的中繼站主機，有疑似惡意程式活動之行為特徵。</td>\n",
       "      <td>171002-1</td>\n",
       "      <td>INDICATOR-COMPROMISE Suspicious .pw/.tk/.ml dn...</td>\n",
       "      <td>民生科服大樓(ITES)</td>\n",
       "      <td></td>\n",
       "      <td>140.92.140.170 (IDEAS)</td>\n",
       "      <td></td>\n",
       "      <td>2017-10-02T00:00:00.000</td>\n",
       "    </tr>\n",
       "  </tbody>\n",
       "</table>\n",
       "</div>"
      ],
      "text/plain": [
       "                        _id  \\\n",
       "0  5a52d8a97d6a9462030819aa   \n",
       "\n",
       "                                              advice        date  \\\n",
       "0  資安監控室長期趨勢追蹤發現創研所主機異常連線至可疑中繼站與DN，Malware DN建議先透...  2017-10-02   \n",
       "\n",
       "                                       dst_host_name dst_ip dst_port  \\\n",
       "0  blog.qooza.hk, stun.iptel.org, drive.google-in...              53   \n",
       "\n",
       "                  end_time                             event_description  \\\n",
       "0  2017-10-02T23:59:59.999  該事件為創研所屬網段電腦連線至ICST所列管的中繼站主機，有疑似惡意程式活動之行為特徵。   \n",
       "\n",
       "   event_id                                         event_name           org  \\\n",
       "0  171002-1  INDICATOR-COMPROMISE Suspicious .pw/.tk/.ml dn...  民生科服大樓(ITES)   \n",
       "\n",
       "  src_host_name                  src_ip src_port               start_time  \n",
       "0                140.92.140.170 (IDEAS)           2017-10-02T00:00:00.000  "
      ]
     },
     "execution_count": 2,
     "metadata": {},
     "output_type": "execute_result"
    }
   ],
   "source": [
    "# query all necessary event information from mongodb\n",
    "# connect to the mongoDB server\n",
    "client = MongoClient(MongoDB_ip, 'mongoDB port')\n",
    "# select the collection\n",
    "db = client.monitor_report\n",
    "# query data via specific information\n",
    "# data_mongo = get_dataByDateMonthDay(db, year, month, day)\n",
    "data_mongo = get_dataByEventID(db, EVENT_ID, db_name)\n",
    "# preview the query data\n",
    "data_mongo.head()"
   ]
  },
  {
   "cell_type": "code",
   "execution_count": 3,
   "metadata": {},
   "outputs": [
    {
     "name": "stdout",
     "output_type": "stream",
     "text": [
      "['140.92.140.170']\n"
     ]
    }
   ],
   "source": [
    "# fetch the source ip information for next step\n",
    "ip_data = get_srcIP_info(data_mongo.src_ip)\n",
    "print ip_data"
   ]
  },
  {
   "cell_type": "markdown",
   "metadata": {},
   "source": [
    "## Splunk Data Part"
   ]
  },
  {
   "cell_type": "code",
   "execution_count": 4,
   "metadata": {
    "scrolled": false
   },
   "outputs": [
    {
     "name": "stdout",
     "output_type": "stream",
     "text": [
      "You have successfully connected to the splunk server!\n",
      "\n",
      "查詢期間觸發事件一覽 search has been successfully done!\n",
      "\n",
      "查詢期間攻擊事件趨勢 search has been successfully done!\n",
      "\n",
      "事件日誌 search has been successfully done!\n",
      "\n",
      "=== All necessary data have been already exported!!! ===\n",
      "\n",
      "[                          _time  \\\n",
      "0   2017-10-02 00:00:00.000 CST   \n",
      "1   2017-10-02 01:00:00.000 CST   \n",
      "2   2017-10-02 02:00:00.000 CST   \n",
      "3   2017-10-02 03:00:00.000 CST   \n",
      "4   2017-10-02 04:00:00.000 CST   \n",
      "5   2017-10-02 05:00:00.000 CST   \n",
      "6   2017-10-02 06:00:00.000 CST   \n",
      "7   2017-10-02 07:00:00.000 CST   \n",
      "8   2017-10-02 08:00:00.000 CST   \n",
      "9   2017-10-02 09:00:00.000 CST   \n",
      "10  2017-10-02 10:00:00.000 CST   \n",
      "11  2017-10-02 11:00:00.000 CST   \n",
      "12  2017-10-02 12:00:00.000 CST   \n",
      "13  2017-10-02 13:00:00.000 CST   \n",
      "14  2017-10-02 14:00:00.000 CST   \n",
      "15  2017-10-02 15:00:00.000 CST   \n",
      "16  2017-10-02 16:00:00.000 CST   \n",
      "17  2017-10-02 17:00:00.000 CST   \n",
      "18  2017-10-02 18:00:00.000 CST   \n",
      "19  2017-10-02 19:00:00.000 CST   \n",
      "20  2017-10-02 20:00:00.000 CST   \n",
      "21  2017-10-02 21:00:00.000 CST   \n",
      "22  2017-10-02 22:00:00.000 CST   \n",
      "23  2017-10-02 23:00:00.000 CST   \n",
      "\n",
      "   ET TROJAN DNS Reply Sinkhole - Anubis - 195.22.26.192/26  \\\n",
      "0                                                   0         \n",
      "1                                                   0         \n",
      "2                                                   0         \n",
      "3                                                   0         \n",
      "4                                                   0         \n",
      "5                                                   0         \n",
      "6                                                   0         \n",
      "7                                                   0         \n",
      "8                                                   0         \n",
      "9                                                   0         \n",
      "10                                                  0         \n",
      "11                                                  0         \n",
      "12                                                  0         \n",
      "13                                                  2         \n",
      "14                                                  0         \n",
      "15                                                  0         \n",
      "16                                                  2         \n",
      "17                                                  0         \n",
      "18                                                  0         \n",
      "19                                                  0         \n",
      "20                                                  0         \n",
      "21                                                  0         \n",
      "22                                                  0         \n",
      "23                                                  0         \n",
      "\n",
      "   ET TROJAN DNS Reply for unallocated address space - Potentially Malicious 1.1.1.0/24  \\\n",
      "0                                                   0                                     \n",
      "1                                                   0                                     \n",
      "2                                                   0                                     \n",
      "3                                                   0                                     \n",
      "4                                                   0                                     \n",
      "5                                                   0                                     \n",
      "6                                                   0                                     \n",
      "7                                                   0                                     \n",
      "8                                                   0                                     \n",
      "9                                                   0                                     \n",
      "10                                                  0                                     \n",
      "11                                                  2                                     \n",
      "12                                                  0                                     \n",
      "13                                                  0                                     \n",
      "14                                                  0                                     \n",
      "15                                                  0                                     \n",
      "16                                                  0                                     \n",
      "17                                                  0                                     \n",
      "18                                                  0                                     \n",
      "19                                                  0                                     \n",
      "20                                                  0                                     \n",
      "21                                                  0                                     \n",
      "22                                                  0                                     \n",
      "23                                                  0                                     \n",
      "\n",
      "   INDICATOR-COMPROMISE Suspicious .pw dns query _span  \n",
      "0                                              0  3600  \n",
      "1                                              0  3600  \n",
      "2                                              0  3600  \n",
      "3                                              0  3600  \n",
      "4                                              0  3600  \n",
      "5                                              0  3600  \n",
      "6                                              0  3600  \n",
      "7                                              0  3600  \n",
      "8                                              0  3600  \n",
      "9                                              0  3600  \n",
      "10                                             0  3600  \n",
      "11                                             0  3600  \n",
      "12                                             0  3600  \n",
      "13                                             2  3600  \n",
      "14                                             0  3600  \n",
      "15                                             0  3600  \n",
      "16                                             8  3600  \n",
      "17                                             2  3600  \n",
      "18                                             0  3600  \n",
      "19                                             0  3600  \n",
      "20                                             0  3600  \n",
      "21                                             2  3600  \n",
      "22                                             4  3600  \n",
      "23                                             0  3600  , ['INDICATOR-COMPROMISE Suspicious .pw dns query', 'ET TROJAN DNS Reply Sinkhole - Anubis - 195.22.26.192/26', 'ET TROJAN DNS Reply for unallocated address space - Potentially Malicious 1.1.1.0/24'], ['[**] [1:28039:5] INDICATOR-COMPROMISE Suspicious .pw dns query [**] [Classification: A Network Trojan was detected] [Priority: 1]  10/02-22:32:09.106762 140.92.142.182:53900 -> 140.92.140.170:53 UDP TTL:128 TOS:0x0 ID:32753 IpLen:20 DgmLen:61 Len: 33', '[**] [1:28039:5] INDICATOR-COMPROMISE Suspicious .pw dns query [**] [Classification: A Network Trojan was detected] [Priority: 1]  10/02-22:32:09.106762 140.92.142.182:53900 -> 140.92.140.170:53 UDP TTL:128 TOS:0x0 ID:32753 IpLen:20 DgmLen:61 Len: 33', '[**] [1:28039:5] INDICATOR-COMPROMISE Suspicious .pw dns query [**] [Classification: A Network Trojan was detected] [Priority: 1]  10/02-22:32:06.530957 140.92.142.182:63015 -> 140.92.140.170:53 UDP TTL:128 TOS:0x0 ID:32703 IpLen:20 DgmLen:57 Len: 29', '[**] [1:28039:5] INDICATOR-COMPROMISE Suspicious .pw dns query [**] [Classification: A Network Trojan was detected] [Priority: 1]  10/02-22:32:06.530957 140.92.142.182:63015 -> 140.92.140.170:53 UDP TTL:128 TOS:0x0 ID:32703 IpLen:20 DgmLen:57 Len: 29', '[**] [1:28039:5] INDICATOR-COMPROMISE Suspicious .pw dns query [**] [Classification: A Network Trojan was detected] [Priority: 1]  10/02-21:35:27.501031 140.92.142.182:58836 -> 140.92.140.170:53 UDP TTL:128 TOS:0x0 ID:5303 IpLen:20 DgmLen:57 Len: 29', '[**] [1:28039:5] INDICATOR-COMPROMISE Suspicious .pw dns query [**] [Classification: A Network Trojan was detected] [Priority: 1]  10/02-21:35:27.501031 140.92.142.182:58836 -> 140.92.140.170:53 UDP TTL:128 TOS:0x0 ID:5303 IpLen:20 DgmLen:57 Len: 29', '[**] [1:28039:5] INDICATOR-COMPROMISE Suspicious .pw dns query [**] [Classification: A Network Trojan was detected] [Priority: 1]  10/02-17:48:02.273771 140.92.142.182:58736 -> 140.92.140.170:53 UDP TTL:128 TOS:0x0 ID:2628 IpLen:20 DgmLen:57 Len: 29', '[**] [1:28039:5] INDICATOR-COMPROMISE Suspicious .pw dns query [**] [Classification: A Network Trojan was detected] [Priority: 1]  10/02-17:48:02.273771 140.92.142.182:58736 -> 140.92.140.170:53 UDP TTL:128 TOS:0x0 ID:2628 IpLen:20 DgmLen:57 Len: 29', '[**] [1:28039:5] INDICATOR-COMPROMISE Suspicious .pw dns query [**] [Classification: A Network Trojan was detected] [Priority: 1]  10/02-16:25:58.085611 140.92.142.193:51567 -> 140.92.140.170:53 UDP TTL:128 TOS:0x0 ID:9822 IpLen:20 DgmLen:61 Len: 33', '[**] [1:28039:5] INDICATOR-COMPROMISE Suspicious .pw dns query [**] [Classification: A Network Trojan was detected] [Priority: 1]  10/02-16:25:58.085611 140.92.142.193:51567 -> 140.92.140.170:53 UDP TTL:128 TOS:0x0 ID:9822 IpLen:20 DgmLen:61 Len: 33']]\n"
     ]
    }
   ],
   "source": [
    "# import splunk packages\n",
    "from autoGenEventDoc_funclist_splunk import *\n",
    "# query all necessary data from splunk\n",
    "# column name infomation\n",
    "# get time range\n",
    "timeRange = {\"earliest_time\": str(data_mongo.start_time.values[0]),\n",
    "                  \"latest_time\": str(data_mongo.end_time.values[0])}\n",
    "# get ip address\n",
    "search_ip = data_mongo.src_ip\n",
    "# connect to the splunk server\n",
    "service = Connect2Server(HOST, PORT, USERNAME, PASSWORD)\n",
    "# get the event diary data\n",
    "data_splunk = queryData4(service, ip_data[0], timeRange, db_name)\n",
    "# preview the query data\n",
    "print data_splunk"
   ]
  },
  {
   "cell_type": "markdown",
   "metadata": {},
   "source": [
    "## Generate Docx Part"
   ]
  },
  {
   "cell_type": "code",
   "execution_count": 5,
   "metadata": {
    "collapsed": true
   },
   "outputs": [],
   "source": [
    "# setup all colname of the document\n",
    "colName_1 = [['問題單', '問題單開立時間'], '事件名稱', '事件描述', \n",
    "             ['來源主機名稱', '來源IP位置', '來源通訊埠','目的主機名稱', '目的主機位置', '目的通訊埠', '事件描述'],\n",
    "             '建議措施', ['參考資料', '附件資料'],'contact info',\n",
    "             '附件', ['事件趨勢圖', 'RawData']]\n",
    "colName_1 = decodeList_2_UTF8(colName_1)"
   ]
  },
  {
   "cell_type": "code",
   "execution_count": 6,
   "metadata": {
    "collapsed": true
   },
   "outputs": [],
   "source": [
    "quesSheet_info = [str(data_mongo.event_id.values[0]), year+month+day]\n",
    "quesSheet_info = decodeList_2_UTF8(quesSheet_info)\n",
    "eventNameContents = str(data_mongo.event_name.values[0])\n",
    "eventNameContents = eventNameContents.decode(\"utf-8\")\n",
    "ed = data_mongo.event_description.values[0]\n",
    "ed = ed.encode('utf-8')\n",
    "eventDesContents = [str(data_mongo.src_host_name.values[0]), str(data_mongo.src_ip.values[0]) , \n",
    "                    str(data_mongo.src_port.values[0]), str(data_mongo.dst_host_name.values[0]),\n",
    "                    str(data_mongo.dst_ip.values[0]), str(data_mongo.dst_port.values[0]), ed]\n",
    "eventDesContents = decodeList_2_UTF8(eventDesContents)\n",
    "sc = data_mongo.advice.values[0]\n",
    "suggestContents = sc"
   ]
  },
  {
   "cell_type": "code",
   "execution_count": 7,
   "metadata": {},
   "outputs": [
    {
     "name": "stderr",
     "output_type": "stream",
     "text": [
      "/Library/Frameworks/Python.framework/Versions/2.7/lib/python2.7/site-packages/docx/styles/styles.py:54: UserWarning: style lookup by style_id is deprecated. Use style name as key instead.\n",
      "  warn(msg, UserWarning)\n"
     ]
    }
   ],
   "source": [
    "# create document\n",
    "document = Document()\n",
    "font = document.styles['Normal'].font\n",
    "font.name = 'STKaitiTC-Regular'\n",
    "\n",
    "# creat table object\n",
    "table = document.add_table(rows=14, cols=4)\n",
    "table.style = 'TableGrid'\n",
    "table.alignment = WD_TABLE_ALIGNMENT.CENTER\n",
    "\n",
    "# row1\n",
    "titleText = colName_1[0]\n",
    "title_row = table.rows[0].cells\n",
    "title_row[0].text = titleText[0]\n",
    "title_row[1].text = quesSheet_info[0]\n",
    "title_row[2].text = titleText[1]\n",
    "title_row[3].text = quesSheet_info[1]\n",
    "\n",
    "# row2\n",
    "eventNameCell = table.rows[1].cells\n",
    "eventName = colName_1[1]\n",
    "eventNameCell[0].text = eventName\n",
    "eventNameContentCell = cellMerge(table, [1, 1], [1, 4])\n",
    "eventNameContentCell.text = eventNameContents\n",
    "\n",
    "# row3\n",
    "eventDesCell = table.rows[2].cells\n",
    "eventDesTitle = rowMerge(table, [2, 0], [7, 0])\n",
    "eventDesTitle.text = colName_1[2]\n",
    "for i in xrange(7):\n",
    "    cell_des = cellMerge(table, [i+2, 1], [i+2, 2])\n",
    "    cell_des.text = colName_1[3][i]\n",
    "    cell_con = cellMerge(table, [i+2, 2], [i+2, 4])\n",
    "    cell_con.text = eventDesContents[i]\n",
    "\n",
    "# row4\n",
    "suggestDo = table.rows[8].cells\n",
    "suggestDo[0].text = colName_1[4]\n",
    "suggestDes = cellMerge(table, [8, 2], [8, 4])\n",
    "suggestDes.text = suggestContents\n",
    "\n",
    "# row5\n",
    "referInfo = table.rows[9].cells\n",
    "referInfo[0].text = colName_1[5][0]\n",
    "referText = cellMerge(table, [9, 1], [9, 4])\n",
    "referText.text = colName_1[5][1]\n",
    "\n",
    "# row6\n",
    "contactInfo = table.rows[10].cells\n",
    "contactInfo = cellMerge(table, [10, 0], [10, 4])\n",
    "contactInfo.text = colName_1[6]\n",
    "\n",
    "# row7\n",
    "attachWord = table.rows[11].cells\n",
    "attachWord = cellMerge(table, [11, 0], [11, 4])\n",
    "attachWord.text = colName_1[7]\n",
    "\n",
    "# row8\n",
    "appText = table.rows[12].cells\n",
    "appText = cellMerge(table, [12, 0], [12, 4])\n",
    "appText.text = colName_1[8][0]\n",
    "\n",
    "# row9\n",
    "appContents = table.rows[13].cells\n",
    "appContents = cellMerge(table, [13, 0], [13, 4])\n",
    "rawData = ''\n",
    "for i in range(len(data_splunk[-1])):\n",
    "    rawData = rawData + data_splunk[-1][i]\n",
    "appContents.text = colName_1[8][1] + '\\n' + rawData\n"
   ]
  },
  {
   "cell_type": "code",
   "execution_count": 8,
   "metadata": {
    "collapsed": true
   },
   "outputs": [],
   "source": [
    "# document.add_page_break()\n",
    "event_id = str(data_mongo.event_id.to_string()[5:])\n",
    "if db_name == 'iii':\n",
    "    docxFileName = 'III事件通知單' + event_id + '.docx'\n",
    "elif db_name == 'ites':\n",
    "    docxFileName = 'ITES事件通知單' + event_id + '.docx'\n",
    "document.save(docxFileName)"
   ]
  }
 ],
 "metadata": {
  "kernelspec": {
   "display_name": "Python 2",
   "language": "python",
   "name": "python2"
  },
  "language_info": {
   "codemirror_mode": {
    "name": "ipython",
    "version": 2
   },
   "file_extension": ".py",
   "mimetype": "text/x-python",
   "name": "python",
   "nbconvert_exporter": "python",
   "pygments_lexer": "ipython2",
   "version": "2.7.13"
  }
 },
 "nbformat": 4,
 "nbformat_minor": 2
}
