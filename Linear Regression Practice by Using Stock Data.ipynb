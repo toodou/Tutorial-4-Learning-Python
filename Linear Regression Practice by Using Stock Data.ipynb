{
 "cells": [
  {
   "cell_type": "markdown",
   "metadata": {},
   "source": [
    "# Linear Regression Practice by Using Stock Data"
   ]
  },
  {
   "cell_type": "code",
   "execution_count": 1,
   "metadata": {},
   "outputs": [],
   "source": [
    "# import essential packages\n",
    "import pandas as pd\n",
    "import datetime\n",
    "from pandas_datareader import data, wb\n",
    "import pandas_datareader.data as web\n",
    "import pandas_datareader as pdr\n",
    "from __future__ import print_function\n",
    "import numpy as np\n",
    "import statsmodels.api as sm\n",
    "%matplotlib inline\n",
    "import matplotlib.pyplot as plt\n",
    "from statsmodels.sandbox.regression.predstd import wls_prediction_std"
   ]
  },
  {
   "cell_type": "code",
   "execution_count": 2,
   "metadata": {},
   "outputs": [],
   "source": [
    "# set the range of time period\n",
    "start = datetime.datetime(2016, 1, 1)\n",
    "end = datetime.datetime(2017, 10, 12)"
   ]
  },
  {
   "cell_type": "code",
   "execution_count": 3,
   "metadata": {
    "scrolled": true
   },
   "outputs": [],
   "source": [
    "# fetch the AAPL stock data\n",
    "# data attribute: Date(Index), Open, High, Low, Close, Adj Close, Volume\n",
    "AAPL_stock = web.DataReader(\"AAPL\", 'yahoo', start, end)\n",
    "# fetch the NASDAQ index data\n",
    "# data attribute: Date(Index), Open, High, Low, Close, Adj Close, Volume\n",
    "NASDAQ_stock = web.DataReader(\"^IXIC\", 'yahoo', start, end)"
   ]
  },
  {
   "cell_type": "code",
   "execution_count": 4,
   "metadata": {},
   "outputs": [],
   "source": [
    "# extract Adjusted Close\n",
    "y_AAPL   = AAPL_stock['Adj Close'].values\n",
    "X_NASDAQ = NASDAQ_stock['Adj Close'].values\n",
    "# add constant\n",
    "X1 = sm.add_constant(X_NASDAQ)"
   ]
  },
  {
   "cell_type": "code",
   "execution_count": 5,
   "metadata": {},
   "outputs": [
    {
     "name": "stdout",
     "output_type": "stream",
     "text": [
      "                            OLS Regression Results                            \n",
      "==============================================================================\n",
      "Dep. Variable:                      y   R-squared:                       0.939\n",
      "Model:                            OLS   Adj. R-squared:                  0.939\n",
      "Method:                 Least Squares   F-statistic:                     6912.\n",
      "Date:                Sat, 14 Oct 2017   Prob (F-statistic):          1.97e-274\n",
      "Time:                        20:18:05   Log-Likelihood:                -1425.7\n",
      "No. Observations:                 450   AIC:                             2855.\n",
      "Df Residuals:                     448   BIC:                             2864.\n",
      "Df Model:                           1                                         \n",
      "Covariance Type:            nonrobust                                         \n",
      "==============================================================================\n",
      "                 coef    std err          t      P>|t|      [0.025      0.975]\n",
      "------------------------------------------------------------------------------\n",
      "const        -78.9300      2.419    -32.635      0.000     -83.683     -74.177\n",
      "x1             0.0365      0.000     83.139      0.000       0.036       0.037\n",
      "==============================================================================\n",
      "Omnibus:                      105.229   Durbin-Watson:                   0.051\n",
      "Prob(Omnibus):                  0.000   Jarque-Bera (JB):               24.051\n",
      "Skew:                           0.240   Prob(JB):                     5.99e-06\n",
      "Kurtosis:                       1.974   Cond. No.                     4.90e+04\n",
      "==============================================================================\n",
      "\n",
      "Warnings:\n",
      "[1] Standard Errors assume that the covariance matrix of the errors is correctly specified.\n",
      "[2] The condition number is large, 4.9e+04. This might indicate that there are\n",
      "strong multicollinearity or other numerical problems.\n"
     ]
    }
   ],
   "source": [
    "# fit the linear regression model\n",
    "model_1   = sm.OLS(y_AAPL, X1)\n",
    "results_1 = model_1.fit()\n",
    "print(results_1.summary())"
   ]
  },
  {
   "cell_type": "code",
   "execution_count": 6,
   "metadata": {},
   "outputs": [],
   "source": [
    "# extract the data (fitting:: AAPL(t) with NASDAQ(t) and NASDAQ(t-1))\n",
    "X_NASDAQt   = X_NASDAQ[1:len(X_NASDAQ)]\n",
    "X_NASDAQt_1 = X_NASDAQ[0:len(X_NASDAQ)-1]\n",
    "# stack the t data and t-1 data together\n",
    "X2 = np.column_stack((X_NASDAQt, X_NASDAQt_1))\n",
    "# add constant\n",
    "X2 = sm.add_constant(X2)\n",
    "# extract AAPL(t)\n",
    "y_AAPL2 = y_AAPL[1:len(y_AAPL)]"
   ]
  },
  {
   "cell_type": "code",
   "execution_count": 7,
   "metadata": {},
   "outputs": [
    {
     "name": "stdout",
     "output_type": "stream",
     "text": [
      "                            OLS Regression Results                            \n",
      "==============================================================================\n",
      "Dep. Variable:                      y   R-squared:                       0.939\n",
      "Model:                            OLS   Adj. R-squared:                  0.939\n",
      "Method:                 Least Squares   F-statistic:                     3455.\n",
      "Date:                Sat, 14 Oct 2017   Prob (F-statistic):          3.44e-272\n",
      "Time:                        20:18:05   Log-Likelihood:                -1421.8\n",
      "No. Observations:                 449   AIC:                             2850.\n",
      "Df Residuals:                     446   BIC:                             2862.\n",
      "Df Model:                           2                                         \n",
      "Covariance Type:            nonrobust                                         \n",
      "==============================================================================\n",
      "                 coef    std err          t      P>|t|      [0.025      0.975]\n",
      "------------------------------------------------------------------------------\n",
      "const        -79.1435      2.425    -32.634      0.000     -83.910     -74.377\n",
      "x1             0.0272      0.006      4.389      0.000       0.015       0.039\n",
      "x2             0.0094      0.006      1.509      0.132      -0.003       0.022\n",
      "==============================================================================\n",
      "Omnibus:                      110.982   Durbin-Watson:                   0.046\n",
      "Prob(Omnibus):                  0.000   Jarque-Bera (JB):               24.800\n",
      "Skew:                           0.251   Prob(JB):                     4.12e-06\n",
      "Kurtosis:                       1.964   Cond. No.                     6.94e+04\n",
      "==============================================================================\n",
      "\n",
      "Warnings:\n",
      "[1] Standard Errors assume that the covariance matrix of the errors is correctly specified.\n",
      "[2] The condition number is large, 6.94e+04. This might indicate that there are\n",
      "strong multicollinearity or other numerical problems.\n"
     ]
    }
   ],
   "source": [
    "# fit the linear regression model\n",
    "model_2 = sm.OLS(y_AAPL2, X2)\n",
    "results_2 = model_2.fit()\n",
    "print(results_2.summary())"
   ]
  },
  {
   "cell_type": "code",
   "execution_count": null,
   "metadata": {
    "collapsed": true
   },
   "outputs": [],
   "source": []
  }
 ],
 "metadata": {
  "kernelspec": {
   "display_name": "Python 3",
   "language": "python",
   "name": "python3"
  },
  "language_info": {
   "codemirror_mode": {
    "name": "ipython",
    "version": 3
   },
   "file_extension": ".py",
   "mimetype": "text/x-python",
   "name": "python",
   "nbconvert_exporter": "python",
   "pygments_lexer": "ipython3",
   "version": "3.6.0"
  }
 },
 "nbformat": 4,
 "nbformat_minor": 2
}
