{
 "cells": [
  {
   "cell_type": "markdown",
   "metadata": {},
   "source": [
    "## [Python] Web Scraping - ThreatPost.com OOized\n",
    "this code is used to scrap the meta-data of articles and their contents via threatpost.com as an example for testing. <br />\n",
    "<b>Date:</b> 2017/11/20<br />\n",
    "<b>Loc:</b> III, Taipei, TAIWAN(R.O.C.)<br />\n",
    "<b>Coder:</b> <i>Chan, TooDou, Chun-Hsiang</i>"
   ]
  },
  {
   "cell_type": "markdown",
   "metadata": {},
   "source": [
    "## Import packages"
   ]
  },
  {
   "cell_type": "code",
   "execution_count": 1,
   "metadata": {
    "collapsed": true
   },
   "outputs": [],
   "source": [
    "# https://threatpost.com/category/cloud-security/\n",
    "# import packages\n",
    "import numpy as np\n",
    "import pandas as pd\n",
    "import os\n",
    "import datetime\n",
    "import sys\n",
    "from bs4 import BeautifulSoup\n",
    "import requests\n",
    "from urllib.request import Request, urlopen"
   ]
  },
  {
   "cell_type": "markdown",
   "metadata": {},
   "source": [
    "## Define Class and Functions"
   ]
  },
  {
   "cell_type": "code",
   "execution_count": 2,
   "metadata": {
    "collapsed": true
   },
   "outputs": [],
   "source": [
    "class Website():\n",
    "    def __init__(self, index_site):\n",
    "        self.index_site = index_site\n",
    "        self.index_htmlContent = ''\n",
    "        self.num_page = 0\n",
    "        self.num_article = 0\n",
    "        self.page_df = ''\n",
    "        self.page_info_categories = []\n",
    "        self.page_info_title = []\n",
    "        self.page_info_date = []\n",
    "        self.page_info_author = []\n",
    "        self.page_info_url = []\n",
    "        \n",
    "    def get_index_htmlContents(self):\n",
    "        # request to open the website via urlopen\n",
    "        req = Request(self.index_site, headers={'User-Agent': 'Mozilla/5.0'})\n",
    "        webpage = urlopen(req).read()\n",
    "        # html parser via beautifulsoup\n",
    "        soupIndex = BeautifulSoup(webpage, \"html.parser\")\n",
    "        self.index_htmlContent = soupIndex\n",
    "        return self.index_htmlContent\n",
    "    \n",
    "    def get_num_page(self):\n",
    "        # transfer to variable\n",
    "        soupIndex = self.index_htmlContent\n",
    "        pageNum = soupIndex.select('.page-numbers')\n",
    "        num_pageOnSite = len(pageNum)\n",
    "        self.num_page = int(pageNum[num_pageOnSite-2].text)\n",
    "        return self.num_page\n",
    "    \n",
    "    def get_info_ofEach_page(self, testPrint):\n",
    "        # transfer to variable\n",
    "        soupIndex = self.index_htmlContent\n",
    "        # choose the news part\n",
    "        full_latest_post = soupIndex.select('#latest-posts')[0]\n",
    "        # count the number of article\n",
    "        num_article = len(full_latest_post.select('article'))\n",
    "        # declare the list for storing the article meta-data\n",
    "        info_categories = []\n",
    "        info_title = []\n",
    "        info_date = []\n",
    "        info_author = []\n",
    "        info_url = []\n",
    "        # parsing the article meta-data to list\n",
    "        for i in range(num_article):\n",
    "            # get article\n",
    "            article_contents = full_latest_post.select('article')[i]\n",
    "            # parsing and storing\n",
    "            info_categories.append(article_contents.select('.categories')[0].text[14:-1])\n",
    "            info_title.append(article_contents.select('.entry-title')[0].text[1:-1])\n",
    "            info_date.append(article_contents.select('.post-info')[0].text[1:-1])\n",
    "            info_author.append(article_contents.select('.post-info')[1].text[4:-1])\n",
    "            info_url.append(article_contents.a['href'])\n",
    "            \n",
    "        # save to single dataframe\n",
    "        threatPost_com = pd.DataFrame(np.column_stack([info_categories, info_title, info_date, info_author, info_url])\n",
    "                                     , columns=['categories', 'title', 'date', 'author', 'url'])\n",
    "        # print the head of dataframe\n",
    "        if testPrint==1:\n",
    "            threatPost_com.head()\n",
    "        # save to class attributes\n",
    "        self.page_df = threatPost_com\n",
    "        self.page_info_categories = info_categories\n",
    "        self.page_info_title = info_title\n",
    "        self.page_info_date = info_date\n",
    "        self.page_info_author = info_author\n",
    "        self.page_info_url = info_url\n",
    "        \n",
    "        return threatPost_com, info_categories, info_title, info_date, info_author, info_url  "
   ]
  },
  {
   "cell_type": "markdown",
   "metadata": {},
   "source": [
    "## Obtain all article info from the index.html"
   ]
  },
  {
   "cell_type": "code",
   "execution_count": 3,
   "metadata": {
    "collapsed": true
   },
   "outputs": [],
   "source": [
    "# set the target url\n",
    "target_url = 'https://threatpost.com/category/cloud-security/'"
   ]
  },
  {
   "cell_type": "code",
   "execution_count": 4,
   "metadata": {},
   "outputs": [],
   "source": [
    "# set the class\n",
    "threatComWeb = Website(target_url)\n",
    "# compute\n",
    "Index_html_Contents = threatComWeb.get_index_htmlContents()\n",
    "Index_MetaData = threatComWeb.get_info_ofEach_page(0)\n",
    "# the contents on index.html\n",
    "df = threatComWeb.page_df"
   ]
  },
  {
   "cell_type": "markdown",
   "metadata": {},
   "source": [
    "## Count number of sub-Websites"
   ]
  },
  {
   "cell_type": "code",
   "execution_count": 5,
   "metadata": {},
   "outputs": [
    {
     "name": "stdout",
     "output_type": "stream",
     "text": [
      "20\n"
     ]
    }
   ],
   "source": [
    "# how many pages in this categories\n",
    "num_page = threatComWeb.get_num_page()\n",
    "print(num_page)"
   ]
  },
  {
   "cell_type": "markdown",
   "metadata": {},
   "source": [
    "## Scrap all meta-info of articles"
   ]
  },
  {
   "cell_type": "code",
   "execution_count": 6,
   "metadata": {},
   "outputs": [],
   "source": [
    "for i in range(1,num_page+1):\n",
    "    if i == 1:\n",
    "        target_url_others = target_url\n",
    "    else:\n",
    "        target_url_others = target_url + 'page/' + str(i) + '/'\n",
    "    # set the class\n",
    "    threatComWeb_others = Website(target_url_others)\n",
    "    # compute\n",
    "    Index_html_Contents_others = threatComWeb_others.get_index_htmlContents()\n",
    "    Index_MetaData_others = threatComWeb_others.get_info_ofEach_page(0)\n",
    "    # the contents on index.html\n",
    "    if i == 1:\n",
    "        af = threatComWeb_others.page_df\n",
    "    else:\n",
    "        df = threatComWeb_others.page_df\n",
    "        af = pd.concat([af, df], ignore_index=True)"
   ]
  },
  {
   "cell_type": "code",
   "execution_count": 7,
   "metadata": {
    "scrolled": false
   },
   "outputs": [
    {
     "data": {
      "text/html": [
       "<div>\n",
       "<table border=\"1\" class=\"dataframe\">\n",
       "  <thead>\n",
       "    <tr style=\"text-align: right;\">\n",
       "      <th></th>\n",
       "      <th>categories</th>\n",
       "      <th>title</th>\n",
       "      <th>date</th>\n",
       "      <th>author</th>\n",
       "      <th>url</th>\n",
       "    </tr>\n",
       "  </thead>\n",
       "  <tbody>\n",
       "    <tr>\n",
       "      <th>0</th>\n",
       "      <td>Cloud Security,  Hacks,  Privacy</td>\n",
       "      <td>Amazon Promises Fix to Stop Key Service Hack</td>\n",
       "      <td>November 17, 2017 , 1:59 pm</td>\n",
       "      <td>Tom Spring</td>\n",
       "      <td>https://threatpost.com/amazon-promises-fix-for...</td>\n",
       "    </tr>\n",
       "    <tr>\n",
       "      <th>1</th>\n",
       "      <td>Cloud Security,  Privacy,  Web Security</td>\n",
       "      <td>Data Pours from Cloud—And ‘The Enemy is Us’</td>\n",
       "      <td>November 6, 2017 , 8:00 am</td>\n",
       "      <td>Tom Spring</td>\n",
       "      <td>https://threatpost.com/data-pours-from-cloud-a...</td>\n",
       "    </tr>\n",
       "    <tr>\n",
       "      <th>2</th>\n",
       "      <td>Cloud Security,  Hacks,  Privacy,  Vulnerabili...</td>\n",
       "      <td>WordPress Delivers Second Patch For SQL Inject...</td>\n",
       "      <td>November 1, 2017 , 2:35 pm</td>\n",
       "      <td>Tom Spring</td>\n",
       "      <td>https://threatpost.com/wordpress-delivers-seco...</td>\n",
       "    </tr>\n",
       "    <tr>\n",
       "      <th>3</th>\n",
       "      <td>Cloud Security,  Featured,  Privacy,  Vulnerab...</td>\n",
       "      <td>Slack Plugs ‘Severe’ SAML User Authentication ...</td>\n",
       "      <td>October 27, 2017 , 8:00 am</td>\n",
       "      <td>Tom Spring</td>\n",
       "      <td>https://threatpost.com/slack-plugs-severe-saml...</td>\n",
       "    </tr>\n",
       "    <tr>\n",
       "      <th>4</th>\n",
       "      <td>Cloud Security,  Cryptography,  Vulnerabilitie...</td>\n",
       "      <td>Cisco Warns 69 Products Impacted by KRACK</td>\n",
       "      <td>October 20, 2017 , 7:00 am</td>\n",
       "      <td>Tom Spring</td>\n",
       "      <td>https://threatpost.com/cisco-warns-69-products...</td>\n",
       "    </tr>\n",
       "  </tbody>\n",
       "</table>\n",
       "</div>"
      ],
      "text/plain": [
       "                                          categories  \\\n",
       "0                   Cloud Security,  Hacks,  Privacy   \n",
       "1            Cloud Security,  Privacy,  Web Security   \n",
       "2  Cloud Security,  Hacks,  Privacy,  Vulnerabili...   \n",
       "3  Cloud Security,  Featured,  Privacy,  Vulnerab...   \n",
       "4  Cloud Security,  Cryptography,  Vulnerabilitie...   \n",
       "\n",
       "                                               title  \\\n",
       "0       Amazon Promises Fix to Stop Key Service Hack   \n",
       "1        Data Pours from Cloud—And ‘The Enemy is Us’   \n",
       "2  WordPress Delivers Second Patch For SQL Inject...   \n",
       "3  Slack Plugs ‘Severe’ SAML User Authentication ...   \n",
       "4          Cisco Warns 69 Products Impacted by KRACK   \n",
       "\n",
       "                          date      author  \\\n",
       "0  November 17, 2017 , 1:59 pm  Tom Spring   \n",
       "1   November 6, 2017 , 8:00 am  Tom Spring   \n",
       "2   November 1, 2017 , 2:35 pm  Tom Spring   \n",
       "3   October 27, 2017 , 8:00 am  Tom Spring   \n",
       "4   October 20, 2017 , 7:00 am  Tom Spring   \n",
       "\n",
       "                                                 url  \n",
       "0  https://threatpost.com/amazon-promises-fix-for...  \n",
       "1  https://threatpost.com/data-pours-from-cloud-a...  \n",
       "2  https://threatpost.com/wordpress-delivers-seco...  \n",
       "3  https://threatpost.com/slack-plugs-severe-saml...  \n",
       "4  https://threatpost.com/cisco-warns-69-products...  "
      ]
     },
     "execution_count": 7,
     "metadata": {},
     "output_type": "execute_result"
    }
   ],
   "source": [
    "af.head()"
   ]
  },
  {
   "cell_type": "markdown",
   "metadata": {},
   "source": [
    "## Export meta-info article data"
   ]
  },
  {
   "cell_type": "code",
   "execution_count": 8,
   "metadata": {
    "collapsed": true
   },
   "outputs": [],
   "source": [
    "af.to_csv('threatpost_com_metaInfo.csv')\n",
    "af.to_pickle('threatpost_com_metaInfo.pkl')"
   ]
  },
  {
   "cell_type": "code",
   "execution_count": null,
   "metadata": {
    "collapsed": true
   },
   "outputs": [],
   "source": []
  }
 ],
 "metadata": {
  "kernelspec": {
   "display_name": "Python 3",
   "language": "python",
   "name": "python3"
  },
  "language_info": {
   "codemirror_mode": {
    "name": "ipython",
    "version": 3
   },
   "file_extension": ".py",
   "mimetype": "text/x-python",
   "name": "python",
   "nbconvert_exporter": "python",
   "pygments_lexer": "ipython3",
   "version": "3.6.0"
  }
 },
 "nbformat": 4,
 "nbformat_minor": 2
}
